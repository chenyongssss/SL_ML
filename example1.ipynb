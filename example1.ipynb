{
 "cells": [
  {
   "cell_type": "code",
   "execution_count": 87,
   "metadata": {},
   "outputs": [],
   "source": [
    "import tensorflow as tf\n",
    "import numpy as np\n",
    "from scipy import integrate\n",
    "import random\n",
    "import matplotlib.pyplot as plt\n"
   ]
  },
  {
   "cell_type": "markdown",
   "metadata": {},
   "source": [
    "#  生成数据"
   ]
  },
  {
   "cell_type": "code",
   "execution_count": 3,
   "metadata": {},
   "outputs": [],
   "source": [
    "# 需要指定一些超参数\n",
    "delta_t = 0.02*np.pi"
   ]
  },
  {
   "cell_type": "code",
   "execution_count": 4,
   "metadata": {},
   "outputs": [],
   "source": [
    "def generate_data(n):\n",
    "    x=np.linspace(0,2*np.pi,256)\n",
    "    data_train = np.zeros((32,n),dtype = np.float32)\n",
    "    #data_sol = np.zeros((256,n))\n",
    "    for k in range(n):\n",
    "        def f(x):\n",
    "            return np.sin(x-k*delta_t)\n",
    "        for i in range(32):\n",
    "            data_train[i,k]=np.mean([f(x[i*8+j]) for j in range(8)])\n",
    "    return data_train"
   ]
  },
  {
   "cell_type": "code",
   "execution_count": 5,
   "metadata": {},
   "outputs": [],
   "source": [
    "data_train = generate_data(20)"
   ]
  },
  {
   "cell_type": "markdown",
   "metadata": {},
   "source": [
    "# the training model  试试软限制"
   ]
  },
  {
   "cell_type": "code",
   "execution_count": 6,
   "metadata": {},
   "outputs": [],
   "source": [
    "#确定一些超参数\n",
    "stencil_length=5\n",
    "delta_x = 2*np.pi/32\n"
   ]
  },
  {
   "cell_type": "code",
   "execution_count": 7,
   "metadata": {},
   "outputs": [],
   "source": [
    "#对于周期函数，翻转函数可以变变\n",
    "#定义一个向右翻转列向量 ， \n",
    "def in_turn1(nums):\n",
    "    shape = nums.shape\n",
    "    nums1 = np.zeros(shape)\n",
    "    nums1[:-1] = nums[1:]\n",
    "    nums1[-1] = nums[0]\n",
    "    return nums1\n",
    "#定义一个向左翻转列向量\n",
    "def in_turn(nums):\n",
    "    shape = nums.shape\n",
    "    nums1 = np.zeros(shape)\n",
    "    nums1[1:] = nums[:-1]\n",
    "    nums1[0] = nums[-1]\n",
    "    return nums1"
   ]
  },
  {
   "cell_type": "code",
   "execution_count": 76,
   "metadata": {},
   "outputs": [],
   "source": [
    "class Branch(tf.keras.Model):\n",
    "    def __init__(self):\n",
    "        super().__init__()\n",
    "        self.convd1=tf.keras.layers.Conv1D(4,3,strides=1,padding='same',kernel_regularizer=tf.keras.regularizers.l2(0.5),activation=tf.nn.relu,use_bias=True,kernel_initializer=tf.random_normal_initializer(stddev=0.067),bias_initializer=tf.zeros_initializer)\n",
    "        #self.convd2=tf.keras.layers.Conv1D(10,3,strides=1,padding='valid',kernel_regularizer=tf.keras.regularizers.l2(0.1),activation=tf.nn.tanh,use_bias=True,kernel_initializer=tf.random_normal_initializer(stddev=0.077),bias_initializer=tf.zeros_initializer)\n",
    "        self.convd3=tf.keras.layers.Conv1D(1,2,strides=1,padding='same',kernel_regularizer=tf.keras.regularizers.l2(0.5),activation=tf.nn.relu,use_bias=True,kernel_initializer=tf.random_normal_initializer(stddev=0.099),bias_initializer=tf.zeros_initializer)\n",
    "        #self.flatten = tf.keras.layers.GlobalAveragePooling1D()\n",
    "    def call(self,inputs):\n",
    "        x = self.convd1(inputs)\n",
    "        #x = self.convd2(x)\n",
    "        x = self.convd3(x)\n",
    "        return x"
   ]
  },
  {
   "cell_type": "code",
   "execution_count": 100,
   "metadata": {},
   "outputs": [],
   "source": [
    "class LocationModel(tf.keras.Model):\n",
    "    \n",
    "    def __init__(self):\n",
    "        super().__init__()\n",
    "        self.linear1 = tf.keras.layers.Dense(units=20,activation=tf.nn.relu,kernel_regularizer=tf.keras.regularizers.l2(0.5),kernel_initializer=tf.random_normal_initializer(stddev=0.099),bias_initializer=tf.zeros_initializer)\n",
    "       # self.linear2=tf.keras.layers.Dense(units=20,activation=tf.nn.tanh,kernel_regularizer=tf.keras.regularizers.l2(0.9),kernel_initializer=tf.random_normal_initializer(stddev=0.05),bias_initializer=tf.zeros_initializer)\n",
    "        self.linear3=tf.keras.layers.Dense(units=4,activation=tf.nn.relu,kernel_regularizer=tf.keras.regularizers.l2(0.5),kernel_initializer=tf.random_normal_initializer(stddev=0.0625),bias_initializer=tf.zeros_initializer)\n",
    "    \n",
    "    def call(self, inputs):\n",
    "        x = self.linear1(inputs)\n",
    "       # x = self.linear2(x)\n",
    "        x = self.linear3(x)\n",
    "        \n",
    "        return x"
   ]
  },
  {
   "cell_type": "code",
   "execution_count": 101,
   "metadata": {},
   "outputs": [],
   "source": [
    "class GlobalModel(tf.keras.Model):\n",
    "    def __init__(self):\n",
    "        super().__init__()\n",
    "        self.location = LocationModel()\n",
    "        self.branch = Branch()\n",
    "        \n",
    "    def call(self, inputs):\n",
    "        X1,X2 = inputs[0],inputs[1]\n",
    "        weights2 = self.location(X2)\n",
    "        weights1 = self.branch(X1)\n",
    "        \n",
    "        return weights1,weights2"
   ]
  },
  {
   "cell_type": "code",
   "execution_count": 104,
   "metadata": {},
   "outputs": [],
   "source": [
    "model = Branch()\n",
    "#超参数设置\n",
    "initial_learning_rate=0.01\n",
    "batch_size = 32\n",
    "num_epochs=int(1500)\n",
    "learning_rate_fn=tf.keras.optimizers.schedules.ExponentialDecay(initial_learning_rate=initial_learning_rate,decay_steps=1200,decay_rate=0.99,staircase=True)\n",
    "#optimizer=tf.keras.optimizers.Adam(learning_rate=initial_learning_rate)\n",
    "# optimizer1=tf.keras.optimizers.Adamax(learning_rate=learning_rate_fn)#adam对比\n",
    "# optimizer2=tf.keras.optimizers.Adamax(learning_rate=0.001)#adam对比\n",
    "# checkpoint1=tf.train.Checkpoint(myModel=trunk)#实例化checkpoint，指定保存对象\n",
    "# checkpoint2=tf.train.Checkpoint(myModel=branch)\n",
    "optimizer=tf.keras.optimizers.Adamax(learning_rate=learning_rate_fn)\n",
    "checkpoint=tf.train.Checkpoint(myModel=model)\n",
    "loss_all=[]"
   ]
  },
  {
   "cell_type": "code",
   "execution_count": 58,
   "metadata": {},
   "outputs": [],
   "source": [
    "def norm(weights_sum):\n",
    "    for i in range(2,32):\n",
    "        temp = weights_sum[i,0]+weights_sum[i-1,1]+weights_sum[i-2,2]\n",
    "        weights_sum[i,0], weights_sum[i,1], weights_sum[i,2] = temp, temp, temp\n",
    "    temp1 = weights_sum[0,0]+weights_sum[-1,-2]+weights_sum[-2,-1]\n",
    "    weights_sum[0,0],weights_sum[-1,-2],weights_sum[-2,-1] = temp1,temp1,temp1\n",
    "    temp2 = weights_sum[0,1]+weights_sum[1,0]+weights_sum[-1,-1]\n",
    "    weights_sum[0,1],weights_sum[1,0],weights_sum[-1,-1] = temp2,temp2,temp2"
   ]
  },
  {
   "cell_type": "code",
   "execution_count": 103,
   "metadata": {},
   "outputs": [],
   "source": [
    "#@tf.function\n",
    "def loss_coe(X):\n",
    "    Y=np.zeros((32,1),dtype = np.float32)\n",
    "    Y[0]=X[0,2]+X[1,1]+X[2,0]+X[-2,-1]+X[-1,-2]\n",
    "    Y[1]=X[0,3]+X[1,2]+X[2,1]+X[3,0]+X[-1,-1]\n",
    "    # Y[2]=X[2,0]+X[1,1]+X[0,2]+X[-1,-2]+X[-2,-1]\n",
    "    # Y[3]=X[3,0]+X[2,1]+X[1,2]+X[0,3]+X[-1,-1]\n",
    "    for i in range(4,32):\n",
    "        Y[i-2]=X[i,0]+X[i-1,1]+X[i-2,2]+X[i-3,1]+X[i-4,0]\n",
    "    Y[-2]=X[0,0]+X[-1,-4]+X[-2,-3]+X[-3,-2]+X[-4,-1]\n",
    "    Y[-1]=X[1,0]+X[0,1]+X[-1,-3]+X[-2,-2]+X[-3,-1]\n",
    "    return Y-1\n",
    "    \n",
    "\n"
   ]
  },
  {
   "cell_type": "code",
   "execution_count": 106,
   "metadata": {},
   "outputs": [],
   "source": [
    "def run_train_model(n):  #卷积核大小设成2\n",
    "    num = 0\n",
    "    for epoch in range(num_epochs):\n",
    "        ujn= data_train[:,0].reshape(32, 1)\n",
    "        ujn_1 = in_turn(ujn)\n",
    "        ujn_2 = in_turn(ujn_1)\n",
    "        ujn1 = in_turn1(ujn)\n",
    "        ujn2 = in_turn1(ujn1)\n",
    "        features = np.c_[ujn_2,ujn_1,ujn,ujn1,ujn2].reshape(32,5,1)\n",
    "        \n",
    "        labels = data_train[:,1].reshape(32,1)\n",
    "        # locations = np.array([-delta_t/delta_x]*32,dtype = np.float32).reshape(32,1)#归一化后的\n",
    "        X1,  Y = features, labels\n",
    "        with tf.GradientTape(persistent=True) as tape:\n",
    "            weights1= model(X1)\n",
    "            weights = tf.squeeze(weights1)\n",
    "            #print(weights[0,0])\n",
    "            # weights_norm = transform(weights)\n",
    "            # # weights_norm = 1-tf.reduce_sum(weights,axis=1, keepdims=True)\n",
    "            # weights = tf.concat([weights, weights_norm],1)\n",
    "            # print(weights_norm.shape)\n",
    "            # break\n",
    "            #归一化处理\n",
    "            # weights_sum = weights.numpy()\n",
    "            # weights_sum = norm(weights_sum)\n",
    "            # weights = weights/weights_sum\n",
    "            # print(weights)\n",
    "            # print(X1)\n",
    "            # break\n",
    "            y_pred = tf.reduce_sum(weights*np.squeeze(X1),axis=1,keepdims=True)\n",
    "            loss = tf.reduce_sum(tf.square(y_pred-Y))+0.5*tf.reduce_sum(tf.square(loss_coe(weights)))\n",
    "        grads=tape.gradient(loss,model.variables)\n",
    "        del tape\n",
    "        optimizer.apply_gradients(grads_and_vars=zip(grads,model.variables))\n",
    "        for k in range(1, n):\n",
    "            weights1= model(features)\n",
    "            weights = tf.squeeze(weights1)\n",
    "            # weights_norm = 1-tf.reduce_sum(weights,axis=1, keepdims=True)\n",
    "            # weights_norm = transform(weights)\n",
    "            # weights = tf.concat([weights, weights_norm],1)\n",
    "            pred = tf.reduce_sum(weights*np.squeeze(features),axis=1,keepdims=True)\n",
    "            ujn= pred.numpy()\n",
    "            ujn_1 = in_turn(ujn)\n",
    "            ujn_2 = in_turn(ujn_1)\n",
    "            ujn1 = in_turn1(ujn)\n",
    "            ujn2 = in_turn1(ujn1)\n",
    "            features = np.c_[ujn_2,ujn_1,ujn,ujn1,ujn2].reshape(32,5,1)\n",
    "            # features = np.c_[in_turn(features),features, in_turn1(features)].reshape(32,3,1)\n",
    "            labels = data_train[:,k+1].reshape(32,1)\n",
    "            # locations = np.array([-delta_t/delta_x]*32).reshape(32,1)#归一化后的\n",
    "            X1, Y = features, labels\n",
    "            with tf.GradientTape(persistent=True) as tape:\n",
    "                weights1 = model(X1)\n",
    "                weights = tf.squeeze(weights1)\n",
    "                # weights_norm = 1-tf.reduce_sum(weights,axis=1, keepdims=True)\n",
    "                # weights_norm = transform(weights)\n",
    "                # weights = tf.concat([weights, weights_norm],1)\n",
    "                y_pred = tf.reduce_sum(weights*np.squeeze(X1),axis=1,keepdims=True)\n",
    "                loss = tf.reduce_sum(tf.square(y_pred-Y))+0.5*tf.reduce_sum(tf.square(loss_coe(weights)))\n",
    "            grads=tape.gradient(loss,model.variables)\n",
    "            del tape\n",
    "        if epoch%10==0:\n",
    "            print(num,':',loss)\n",
    "            num+=1\n",
    "\n",
    "\n",
    "\n"
   ]
  },
  {
   "cell_type": "code",
   "execution_count": 111,
   "metadata": {},
   "outputs": [
    {
     "name": "stdout",
     "output_type": "stream",
     "text": [
      "0 : tf.Tensor(0.5388777, shape=(), dtype=float32)\n",
      "1 : tf.Tensor(0.53940123, shape=(), dtype=float32)\n",
      "2 : tf.Tensor(0.5398968, shape=(), dtype=float32)\n",
      "3 : tf.Tensor(0.5403648, shape=(), dtype=float32)\n",
      "4 : tf.Tensor(0.5408071, shape=(), dtype=float32)\n",
      "5 : tf.Tensor(0.5412239, shape=(), dtype=float32)\n",
      "6 : tf.Tensor(0.5416165, shape=(), dtype=float32)\n",
      "7 : tf.Tensor(0.5419855, shape=(), dtype=float32)\n",
      "8 : tf.Tensor(0.54233134, shape=(), dtype=float32)\n",
      "9 : tf.Tensor(0.5426565, shape=(), dtype=float32)\n",
      "10 : tf.Tensor(0.54296064, shape=(), dtype=float32)\n",
      "11 : tf.Tensor(0.54324424, shape=(), dtype=float32)\n",
      "12 : tf.Tensor(0.54350924, shape=(), dtype=float32)\n",
      "13 : tf.Tensor(0.54375595, shape=(), dtype=float32)\n"
     ]
    },
    {
     "ename": "KeyboardInterrupt",
     "evalue": "",
     "output_type": "error",
     "traceback": [
      "\u001b[1;31m---------------------------------------------------------------------------\u001b[0m",
      "\u001b[1;31mKeyboardInterrupt\u001b[0m                         Traceback (most recent call last)",
      "\u001b[1;32m<ipython-input-111-16f7ee25eb6a>\u001b[0m in \u001b[0;36m<module>\u001b[1;34m\u001b[0m\n\u001b[1;32m----> 1\u001b[1;33m \u001b[0mrun_train_model\u001b[0m\u001b[1;33m(\u001b[0m\u001b[1;36m5\u001b[0m\u001b[1;33m)\u001b[0m\u001b[1;33m\u001b[0m\u001b[1;33m\u001b[0m\u001b[0m\n\u001b[0m",
      "\u001b[1;32m<ipython-input-106-141a078408d2>\u001b[0m in \u001b[0;36mrun_train_model\u001b[1;34m(n)\u001b[0m\n\u001b[0;32m     57\u001b[0m                 \u001b[1;31m# weights = tf.concat([weights, weights_norm],1)\u001b[0m\u001b[1;33m\u001b[0m\u001b[1;33m\u001b[0m\u001b[1;33m\u001b[0m\u001b[0m\n\u001b[0;32m     58\u001b[0m                 \u001b[0my_pred\u001b[0m \u001b[1;33m=\u001b[0m \u001b[0mtf\u001b[0m\u001b[1;33m.\u001b[0m\u001b[0mreduce_sum\u001b[0m\u001b[1;33m(\u001b[0m\u001b[0mweights\u001b[0m\u001b[1;33m*\u001b[0m\u001b[0mnp\u001b[0m\u001b[1;33m.\u001b[0m\u001b[0msqueeze\u001b[0m\u001b[1;33m(\u001b[0m\u001b[0mX1\u001b[0m\u001b[1;33m)\u001b[0m\u001b[1;33m,\u001b[0m\u001b[0maxis\u001b[0m\u001b[1;33m=\u001b[0m\u001b[1;36m1\u001b[0m\u001b[1;33m,\u001b[0m\u001b[0mkeepdims\u001b[0m\u001b[1;33m=\u001b[0m\u001b[1;32mTrue\u001b[0m\u001b[1;33m)\u001b[0m\u001b[1;33m\u001b[0m\u001b[1;33m\u001b[0m\u001b[0m\n\u001b[1;32m---> 59\u001b[1;33m                 \u001b[0mloss\u001b[0m \u001b[1;33m=\u001b[0m \u001b[0mtf\u001b[0m\u001b[1;33m.\u001b[0m\u001b[0mreduce_sum\u001b[0m\u001b[1;33m(\u001b[0m\u001b[0mtf\u001b[0m\u001b[1;33m.\u001b[0m\u001b[0msquare\u001b[0m\u001b[1;33m(\u001b[0m\u001b[0my_pred\u001b[0m\u001b[1;33m-\u001b[0m\u001b[0mY\u001b[0m\u001b[1;33m)\u001b[0m\u001b[1;33m)\u001b[0m\u001b[1;33m+\u001b[0m\u001b[1;36m0.5\u001b[0m\u001b[1;33m*\u001b[0m\u001b[0mtf\u001b[0m\u001b[1;33m.\u001b[0m\u001b[0mreduce_sum\u001b[0m\u001b[1;33m(\u001b[0m\u001b[0mtf\u001b[0m\u001b[1;33m.\u001b[0m\u001b[0msquare\u001b[0m\u001b[1;33m(\u001b[0m\u001b[0mloss_coe\u001b[0m\u001b[1;33m(\u001b[0m\u001b[0mweights\u001b[0m\u001b[1;33m)\u001b[0m\u001b[1;33m)\u001b[0m\u001b[1;33m)\u001b[0m\u001b[1;33m\u001b[0m\u001b[1;33m\u001b[0m\u001b[0m\n\u001b[0m\u001b[0;32m     60\u001b[0m             \u001b[0mgrads\u001b[0m\u001b[1;33m=\u001b[0m\u001b[0mtape\u001b[0m\u001b[1;33m.\u001b[0m\u001b[0mgradient\u001b[0m\u001b[1;33m(\u001b[0m\u001b[0mloss\u001b[0m\u001b[1;33m,\u001b[0m\u001b[0mmodel\u001b[0m\u001b[1;33m.\u001b[0m\u001b[0mvariables\u001b[0m\u001b[1;33m)\u001b[0m\u001b[1;33m\u001b[0m\u001b[1;33m\u001b[0m\u001b[0m\n\u001b[0;32m     61\u001b[0m             \u001b[1;32mdel\u001b[0m \u001b[0mtape\u001b[0m\u001b[1;33m\u001b[0m\u001b[1;33m\u001b[0m\u001b[0m\n",
      "\u001b[1;32m<ipython-input-103-e1a5f100eee5>\u001b[0m in \u001b[0;36mloss_coe\u001b[1;34m(X)\u001b[0m\n\u001b[0;32m      7\u001b[0m     \u001b[1;31m# Y[3]=X[3,0]+X[2,1]+X[1,2]+X[0,3]+X[-1,-1]\u001b[0m\u001b[1;33m\u001b[0m\u001b[1;33m\u001b[0m\u001b[1;33m\u001b[0m\u001b[0m\n\u001b[0;32m      8\u001b[0m     \u001b[1;32mfor\u001b[0m \u001b[0mi\u001b[0m \u001b[1;32min\u001b[0m \u001b[0mrange\u001b[0m\u001b[1;33m(\u001b[0m\u001b[1;36m4\u001b[0m\u001b[1;33m,\u001b[0m\u001b[1;36m32\u001b[0m\u001b[1;33m)\u001b[0m\u001b[1;33m:\u001b[0m\u001b[1;33m\u001b[0m\u001b[1;33m\u001b[0m\u001b[0m\n\u001b[1;32m----> 9\u001b[1;33m         \u001b[0mY\u001b[0m\u001b[1;33m[\u001b[0m\u001b[0mi\u001b[0m\u001b[1;33m-\u001b[0m\u001b[1;36m2\u001b[0m\u001b[1;33m]\u001b[0m\u001b[1;33m=\u001b[0m\u001b[0mX\u001b[0m\u001b[1;33m[\u001b[0m\u001b[0mi\u001b[0m\u001b[1;33m,\u001b[0m\u001b[1;36m0\u001b[0m\u001b[1;33m]\u001b[0m\u001b[1;33m+\u001b[0m\u001b[0mX\u001b[0m\u001b[1;33m[\u001b[0m\u001b[0mi\u001b[0m\u001b[1;33m-\u001b[0m\u001b[1;36m1\u001b[0m\u001b[1;33m,\u001b[0m\u001b[1;36m1\u001b[0m\u001b[1;33m]\u001b[0m\u001b[1;33m+\u001b[0m\u001b[0mX\u001b[0m\u001b[1;33m[\u001b[0m\u001b[0mi\u001b[0m\u001b[1;33m-\u001b[0m\u001b[1;36m2\u001b[0m\u001b[1;33m,\u001b[0m\u001b[1;36m2\u001b[0m\u001b[1;33m]\u001b[0m\u001b[1;33m+\u001b[0m\u001b[0mX\u001b[0m\u001b[1;33m[\u001b[0m\u001b[0mi\u001b[0m\u001b[1;33m-\u001b[0m\u001b[1;36m3\u001b[0m\u001b[1;33m,\u001b[0m\u001b[1;36m1\u001b[0m\u001b[1;33m]\u001b[0m\u001b[1;33m+\u001b[0m\u001b[0mX\u001b[0m\u001b[1;33m[\u001b[0m\u001b[0mi\u001b[0m\u001b[1;33m-\u001b[0m\u001b[1;36m4\u001b[0m\u001b[1;33m,\u001b[0m\u001b[1;36m0\u001b[0m\u001b[1;33m]\u001b[0m\u001b[1;33m\u001b[0m\u001b[1;33m\u001b[0m\u001b[0m\n\u001b[0m\u001b[0;32m     10\u001b[0m     \u001b[0mY\u001b[0m\u001b[1;33m[\u001b[0m\u001b[1;33m-\u001b[0m\u001b[1;36m2\u001b[0m\u001b[1;33m]\u001b[0m\u001b[1;33m=\u001b[0m\u001b[0mX\u001b[0m\u001b[1;33m[\u001b[0m\u001b[1;36m0\u001b[0m\u001b[1;33m,\u001b[0m\u001b[1;36m0\u001b[0m\u001b[1;33m]\u001b[0m\u001b[1;33m+\u001b[0m\u001b[0mX\u001b[0m\u001b[1;33m[\u001b[0m\u001b[1;33m-\u001b[0m\u001b[1;36m1\u001b[0m\u001b[1;33m,\u001b[0m\u001b[1;33m-\u001b[0m\u001b[1;36m4\u001b[0m\u001b[1;33m]\u001b[0m\u001b[1;33m+\u001b[0m\u001b[0mX\u001b[0m\u001b[1;33m[\u001b[0m\u001b[1;33m-\u001b[0m\u001b[1;36m2\u001b[0m\u001b[1;33m,\u001b[0m\u001b[1;33m-\u001b[0m\u001b[1;36m3\u001b[0m\u001b[1;33m]\u001b[0m\u001b[1;33m+\u001b[0m\u001b[0mX\u001b[0m\u001b[1;33m[\u001b[0m\u001b[1;33m-\u001b[0m\u001b[1;36m3\u001b[0m\u001b[1;33m,\u001b[0m\u001b[1;33m-\u001b[0m\u001b[1;36m2\u001b[0m\u001b[1;33m]\u001b[0m\u001b[1;33m+\u001b[0m\u001b[0mX\u001b[0m\u001b[1;33m[\u001b[0m\u001b[1;33m-\u001b[0m\u001b[1;36m4\u001b[0m\u001b[1;33m,\u001b[0m\u001b[1;33m-\u001b[0m\u001b[1;36m1\u001b[0m\u001b[1;33m]\u001b[0m\u001b[1;33m\u001b[0m\u001b[1;33m\u001b[0m\u001b[0m\n\u001b[0;32m     11\u001b[0m     \u001b[0mY\u001b[0m\u001b[1;33m[\u001b[0m\u001b[1;33m-\u001b[0m\u001b[1;36m1\u001b[0m\u001b[1;33m]\u001b[0m\u001b[1;33m=\u001b[0m\u001b[0mX\u001b[0m\u001b[1;33m[\u001b[0m\u001b[1;36m1\u001b[0m\u001b[1;33m,\u001b[0m\u001b[1;36m0\u001b[0m\u001b[1;33m]\u001b[0m\u001b[1;33m+\u001b[0m\u001b[0mX\u001b[0m\u001b[1;33m[\u001b[0m\u001b[1;36m0\u001b[0m\u001b[1;33m,\u001b[0m\u001b[1;36m1\u001b[0m\u001b[1;33m]\u001b[0m\u001b[1;33m+\u001b[0m\u001b[0mX\u001b[0m\u001b[1;33m[\u001b[0m\u001b[1;33m-\u001b[0m\u001b[1;36m1\u001b[0m\u001b[1;33m,\u001b[0m\u001b[1;33m-\u001b[0m\u001b[1;36m3\u001b[0m\u001b[1;33m]\u001b[0m\u001b[1;33m+\u001b[0m\u001b[0mX\u001b[0m\u001b[1;33m[\u001b[0m\u001b[1;33m-\u001b[0m\u001b[1;36m2\u001b[0m\u001b[1;33m,\u001b[0m\u001b[1;33m-\u001b[0m\u001b[1;36m2\u001b[0m\u001b[1;33m]\u001b[0m\u001b[1;33m+\u001b[0m\u001b[0mX\u001b[0m\u001b[1;33m[\u001b[0m\u001b[1;33m-\u001b[0m\u001b[1;36m3\u001b[0m\u001b[1;33m,\u001b[0m\u001b[1;33m-\u001b[0m\u001b[1;36m1\u001b[0m\u001b[1;33m]\u001b[0m\u001b[1;33m\u001b[0m\u001b[1;33m\u001b[0m\u001b[0m\n",
      "\u001b[1;32md:\\anoconda\\lib\\site-packages\\tensorflow\\python\\ops\\math_ops.py\u001b[0m in \u001b[0;36mbinary_op_wrapper\u001b[1;34m(x, y)\u001b[0m\n\u001b[0;32m   1162\u001b[0m     \u001b[1;32mwith\u001b[0m \u001b[0mops\u001b[0m\u001b[1;33m.\u001b[0m\u001b[0mname_scope\u001b[0m\u001b[1;33m(\u001b[0m\u001b[1;32mNone\u001b[0m\u001b[1;33m,\u001b[0m \u001b[0mop_name\u001b[0m\u001b[1;33m,\u001b[0m \u001b[1;33m[\u001b[0m\u001b[0mx\u001b[0m\u001b[1;33m,\u001b[0m \u001b[0my\u001b[0m\u001b[1;33m]\u001b[0m\u001b[1;33m)\u001b[0m \u001b[1;32mas\u001b[0m \u001b[0mname\u001b[0m\u001b[1;33m:\u001b[0m\u001b[1;33m\u001b[0m\u001b[1;33m\u001b[0m\u001b[0m\n\u001b[0;32m   1163\u001b[0m       \u001b[1;32mtry\u001b[0m\u001b[1;33m:\u001b[0m\u001b[1;33m\u001b[0m\u001b[1;33m\u001b[0m\u001b[0m\n\u001b[1;32m-> 1164\u001b[1;33m         \u001b[1;32mreturn\u001b[0m \u001b[0mfunc\u001b[0m\u001b[1;33m(\u001b[0m\u001b[0mx\u001b[0m\u001b[1;33m,\u001b[0m \u001b[0my\u001b[0m\u001b[1;33m,\u001b[0m \u001b[0mname\u001b[0m\u001b[1;33m=\u001b[0m\u001b[0mname\u001b[0m\u001b[1;33m)\u001b[0m\u001b[1;33m\u001b[0m\u001b[1;33m\u001b[0m\u001b[0m\n\u001b[0m\u001b[0;32m   1165\u001b[0m       \u001b[1;32mexcept\u001b[0m \u001b[1;33m(\u001b[0m\u001b[0mTypeError\u001b[0m\u001b[1;33m,\u001b[0m \u001b[0mValueError\u001b[0m\u001b[1;33m)\u001b[0m \u001b[1;32mas\u001b[0m \u001b[0me\u001b[0m\u001b[1;33m:\u001b[0m\u001b[1;33m\u001b[0m\u001b[1;33m\u001b[0m\u001b[0m\n\u001b[0;32m   1166\u001b[0m         \u001b[1;31m# Even if dispatching the op failed, the RHS may be a tensor aware\u001b[0m\u001b[1;33m\u001b[0m\u001b[1;33m\u001b[0m\u001b[1;33m\u001b[0m\u001b[0m\n",
      "\u001b[1;32md:\\anoconda\\lib\\site-packages\\tensorflow\\python\\util\\dispatch.py\u001b[0m in \u001b[0;36mwrapper\u001b[1;34m(*args, **kwargs)\u001b[0m\n\u001b[0;32m    199\u001b[0m     \u001b[1;34m\"\"\"Call target, and fall back on dispatchers if there is a TypeError.\"\"\"\u001b[0m\u001b[1;33m\u001b[0m\u001b[1;33m\u001b[0m\u001b[0m\n\u001b[0;32m    200\u001b[0m     \u001b[1;32mtry\u001b[0m\u001b[1;33m:\u001b[0m\u001b[1;33m\u001b[0m\u001b[1;33m\u001b[0m\u001b[0m\n\u001b[1;32m--> 201\u001b[1;33m       \u001b[1;32mreturn\u001b[0m \u001b[0mtarget\u001b[0m\u001b[1;33m(\u001b[0m\u001b[1;33m*\u001b[0m\u001b[0margs\u001b[0m\u001b[1;33m,\u001b[0m \u001b[1;33m**\u001b[0m\u001b[0mkwargs\u001b[0m\u001b[1;33m)\u001b[0m\u001b[1;33m\u001b[0m\u001b[1;33m\u001b[0m\u001b[0m\n\u001b[0m\u001b[0;32m    202\u001b[0m     \u001b[1;32mexcept\u001b[0m \u001b[1;33m(\u001b[0m\u001b[0mTypeError\u001b[0m\u001b[1;33m,\u001b[0m \u001b[0mValueError\u001b[0m\u001b[1;33m)\u001b[0m\u001b[1;33m:\u001b[0m\u001b[1;33m\u001b[0m\u001b[1;33m\u001b[0m\u001b[0m\n\u001b[0;32m    203\u001b[0m       \u001b[1;31m# Note: convert_to_eager_tensor currently raises a ValueError, not a\u001b[0m\u001b[1;33m\u001b[0m\u001b[1;33m\u001b[0m\u001b[1;33m\u001b[0m\u001b[0m\n",
      "\u001b[1;32md:\\anoconda\\lib\\site-packages\\tensorflow\\python\\ops\\math_ops.py\u001b[0m in \u001b[0;36m_add_dispatch\u001b[1;34m(x, y, name)\u001b[0m\n\u001b[0;32m   1484\u001b[0m     \u001b[1;32mreturn\u001b[0m \u001b[0mgen_math_ops\u001b[0m\u001b[1;33m.\u001b[0m\u001b[0madd\u001b[0m\u001b[1;33m(\u001b[0m\u001b[0mx\u001b[0m\u001b[1;33m,\u001b[0m \u001b[0my\u001b[0m\u001b[1;33m,\u001b[0m \u001b[0mname\u001b[0m\u001b[1;33m=\u001b[0m\u001b[0mname\u001b[0m\u001b[1;33m)\u001b[0m\u001b[1;33m\u001b[0m\u001b[1;33m\u001b[0m\u001b[0m\n\u001b[0;32m   1485\u001b[0m   \u001b[1;32melse\u001b[0m\u001b[1;33m:\u001b[0m\u001b[1;33m\u001b[0m\u001b[1;33m\u001b[0m\u001b[0m\n\u001b[1;32m-> 1486\u001b[1;33m     \u001b[1;32mreturn\u001b[0m \u001b[0mgen_math_ops\u001b[0m\u001b[1;33m.\u001b[0m\u001b[0madd_v2\u001b[0m\u001b[1;33m(\u001b[0m\u001b[0mx\u001b[0m\u001b[1;33m,\u001b[0m \u001b[0my\u001b[0m\u001b[1;33m,\u001b[0m \u001b[0mname\u001b[0m\u001b[1;33m=\u001b[0m\u001b[0mname\u001b[0m\u001b[1;33m)\u001b[0m\u001b[1;33m\u001b[0m\u001b[1;33m\u001b[0m\u001b[0m\n\u001b[0m\u001b[0;32m   1487\u001b[0m \u001b[1;33m\u001b[0m\u001b[0m\n\u001b[0;32m   1488\u001b[0m \u001b[1;33m\u001b[0m\u001b[0m\n",
      "\u001b[1;32md:\\anoconda\\lib\\site-packages\\tensorflow\\python\\ops\\gen_math_ops.py\u001b[0m in \u001b[0;36madd_v2\u001b[1;34m(x, y, name)\u001b[0m\n\u001b[0;32m    465\u001b[0m   \u001b[1;32mif\u001b[0m \u001b[0mtld\u001b[0m\u001b[1;33m.\u001b[0m\u001b[0mis_eager\u001b[0m\u001b[1;33m:\u001b[0m\u001b[1;33m\u001b[0m\u001b[1;33m\u001b[0m\u001b[0m\n\u001b[0;32m    466\u001b[0m     \u001b[1;32mtry\u001b[0m\u001b[1;33m:\u001b[0m\u001b[1;33m\u001b[0m\u001b[1;33m\u001b[0m\u001b[0m\n\u001b[1;32m--> 467\u001b[1;33m       _result = pywrap_tfe.TFE_Py_FastPathExecute(\n\u001b[0m\u001b[0;32m    468\u001b[0m         _ctx, \"AddV2\", name, x, y)\n\u001b[0;32m    469\u001b[0m       \u001b[1;32mreturn\u001b[0m \u001b[0m_result\u001b[0m\u001b[1;33m\u001b[0m\u001b[1;33m\u001b[0m\u001b[0m\n",
      "\u001b[1;31mKeyboardInterrupt\u001b[0m: "
     ]
    }
   ],
   "source": [
    "run_train_model(5)"
   ]
  },
  {
   "cell_type": "code",
   "execution_count": 89,
   "metadata": {},
   "outputs": [],
   "source": [
    "x = np.arange(0,2*np.pi, delta_x)"
   ]
  },
  {
   "cell_type": "code",
   "execution_count": 90,
   "metadata": {},
   "outputs": [
    {
     "data": {
      "text/plain": [
       "32"
      ]
     },
     "execution_count": 90,
     "metadata": {},
     "output_type": "execute_result"
    }
   ],
   "source": [
    "len(x)"
   ]
  },
  {
   "cell_type": "code",
   "execution_count": 108,
   "metadata": {},
   "outputs": [],
   "source": [
    "def run_pred(n):\n",
    "    ujn= data_train[:,0].reshape(32, 1)\n",
    "    ujn_1 = in_turn(ujn)\n",
    "    ujn_2 = in_turn(ujn_1)\n",
    "    ujn1 = in_turn1(ujn)\n",
    "    ujn2 = in_turn1(ujn1)\n",
    "    features = np.c_[ujn_2,ujn_1,ujn,ujn1,ujn2].reshape(32,5,1)\n",
    "    weights1= model(features)\n",
    "    weights = tf.squeeze(weights1)\n",
    "    pred = tf.reduce_sum(weights*np.squeeze(features),axis=1,keepdims=True)\n",
    "    y_pred = pred.numpy()\n",
    "    for k in range(1, n):\n",
    "        ujn = y_pred\n",
    "        ujn_1 = in_turn(ujn)\n",
    "        ujn_2 = in_turn(ujn_1)\n",
    "        ujn1 = in_turn1(ujn)\n",
    "        ujn2 = in_turn1(ujn1)\n",
    "        features = np.c_[ujn_2,ujn_1,ujn,ujn1,ujn2].reshape(32,5,1)\n",
    "        weights1= model(features)\n",
    "        weights = tf.squeeze(weights1)\n",
    "        pred = tf.reduce_sum(weights*np.squeeze(features),axis=1,keepdims=True)\n",
    "        y_pred = pred.numpy()\n",
    "    labels = data_train[:,n].reshape(32,1)\n",
    "    plt.figure(figsize=(8,8))\n",
    "    plt.plot(x,y_pred,c='r',linestyle='dotted',linewidth=4,label='pred')\n",
    "    plt.plot(x,labels,c='b',linestyle='-',linewidth=2,label='true')\n",
    "    #plt.ylim(-1,1)\n",
    "    plt.legend(loc='upper right')\n",
    "    plt.title('t='+str(n*delta_t))\n",
    "    plt.show()\n",
    "    #print(labels_test)\n",
    "    #print(pred1)\n",
    "    loss_2=np.sqrt(np.sum(np.power(y_pred-labels,2))*delta_x)/np.sqrt(2*np.pi) \n",
    "    print('l2',loss_2)\n",
    "    loss_infty=np.max(np.abs(y_pred-labels))\n",
    "    print('l_infty',loss_infty)\n",
    "        \n",
    "        "
   ]
  },
  {
   "cell_type": "code",
   "execution_count": 110,
   "metadata": {},
   "outputs": [
    {
     "data": {
      "image/png": "[encoded data removed]",
      "text/plain": [
       "<Figure size 576x576 with 1 Axes>"
      ]
     },
     "metadata": {
      "needs_background": "light"
     },
     "output_type": "display_data"
    },
    {
     "name": "stdout",
     "output_type": "stream",
     "text": [
      "l2 0.00875701542036823\n",
      "l_infty 0.018304884\n"
     ]
    }
   ],
   "source": [
    "run_pred(10)"
   ]
  },
  {
   "cell_type": "code",
   "execution_count": 20,
   "metadata": {},
   "outputs": [
    {
     "name": "stdout",
     "output_type": "stream",
     "text": [
      "(2, 2, 3) () (2, 3) (2, 1, 3)\n"
     ]
    }
   ],
   "source": [
    "import tensorflow as tf\n",
    "X = tf.constant([[[1., 1, 1],[2., 2, 2]],\n",
    "                  [[3, 3, 3],[4, 4, 4]]])\n",
    "y_1= tf.reduce_sum(X) #全部和\n",
    "y_2= tf.reduce_sum(X,1) #沿着轴1求和\n",
    "y_3= tf.reduce_sum(X,1,keepdims=True)\n",
    "#y_4= tf.reduce_sum(X,[1,0])#先沿着轴1再轴0\n",
    "print(X.shape,y_1.shape,y_2.shape,y_3.shape)\n"
   ]
  }
 ],
 "metadata": {
  "kernelspec": {
   "display_name": "Python 3.8.5 ('base')",
   "language": "python",
   "name": "python3"
  },
  "language_info": {
   "codemirror_mode": {
    "name": "ipython",
    "version": 3
   },
   "file_extension": ".py",
   "mimetype": "text/x-python",
   "name": "python",
   "nbconvert_exporter": "python",
   "pygments_lexer": "ipython3",
   "version": "3.8.5"
  },
  "orig_nbformat": 4,
  "vscode": {
   "interpreter": {
    "hash": "ddf7946fc52008328581826fad6b41b64d259fd2ed14ccd2132ec6faa40c5a9d"
   }
  }
 },
 "nbformat": 4,
 "nbformat_minor": 2
}
